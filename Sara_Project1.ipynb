{
  "nbformat": 4,
  "nbformat_minor": 0,
  "metadata": {
    "colab": {
      "provenance": []
    },
    "kernelspec": {
      "name": "python3",
      "display_name": "Python 3"
    },
    "language_info": {
      "name": "python"
    }
  },
  "cells": [
    {
      "cell_type": "markdown",
      "source": [
        "\n",
        "<a href=\"https://www.zero-grad.com/\">\n",
        "         <img alt=\"Zero Grad\" src=\"https://lh3.googleusercontent.com/oEMY-qk_B2HW_Fponz1a3u1fLfo3NpO0VFjQKnVW8fH0v93NAWala5Kgp0nN2ubiyZdEMpwhv3Ynv7bXsB0RZ28YfEd_ZlRum75OHEu0-z7XwHfcD3sin7_SORLzg1gz52MsxD3b1WbxQWX1RdR4HP3jpbJTOuCiddl92UBcQH_x-Llx7_XuZuwb9ekN9vYnKsw6U1yL2df4IVrJEDySttzab9qlHvMO7sSekgS64jPVAmATjqXqlvrwM026dhrad-7nX-hfr2uKlUGPuo9xKzVo4EhbUP1-pKBQNPNHO6P0KcReg3NxbtKmWXRyg9LPX0xO-wwXWt9GhCcPXFV_BoY5eQXabCjR3mlr9SO01VgWplas-XF4337_JOm-bVkiaQjQca_N4Gg0hy26TvIGRnHEMIPSgudYPqhMnatoN4xAC715rP82r1svC0_qadXMZHu6D40YqWnY9ZE-iujr2p1_CetxmG-uY94UATy7o-SnxuPchG4QfZkiUgRMr8xNg86bQMuBxbCS_lOyVMwfqwbt2IunlDcZ8yyN_3SJFzFHuFOOjQolgGQrytI0mP1oTwba7je0RtBtCuTck1UCMMsZvMnJhCtWgMmuLoYTkSCzxMXbz0T3L2AClDouA_3dwM7z1gdm8Gq4v06T1KWFUs1adGNH5fuj-pUHEfW4drzzXgolPH5SehqhaNsqdMttCPUzNPIIEjwfULyQi7nlP-w-qydK82mdhdmjQhrprfoGtsPckJkI1Tur60uZI7nLkES5cE3tQrGualSNArRkkU8KN4tStZ0CkmqZNkAlMbfAJSYBD7tDxhGSg922AdLevSLJMTUyg6KuHoY30r7zH1Z8fE0R8aFZL2LJl54OU_tkXEdlFlSnZTOdB-PVTj-yagpt99SetLnQIX5SS_Vxc0BNPKjUZG0oEHYbIxkbZN1O7Rg78xe-thytngS0byfuaeP2X4NYjg29FIffnn72bAUs9Ii0N2mOpABLg1uQMN4MyAa1Mbd_=w1300-h200-no?authuser=1\" >\n",
        "      </a>"
      ],
      "metadata": {
        "id": "hMV-7TpxbEDG"
      }
    },
    {
      "cell_type": "markdown",
      "source": [
        "# Guessing Game Project Description"
      ],
      "metadata": {
        "id": "1NMnTuFU4XF3"
      }
    },
    {
      "cell_type": "markdown",
      "source": [
        "* **`First: You ask the user to set the game level:`**\n",
        "  * *(1) Easy*:\n",
        "    * Limits : [1 - 10]  \n",
        "    * No. of trials : 3\n",
        "  * *(2) Intermediate*:\n",
        "    * Limits : [1 - 100]\n",
        "    * No. of trials : 7\n",
        "  * *(3) Hard* :  \n",
        "    * Limits : [1 - 1000]\n",
        "    * No. of trials : 15\n",
        "\n",
        "* **`Second: set the game settings according to the game level:`**\n",
        "  * set the `guess` to a number within the limits using `random` module\n",
        "  * set the number of trials: `n_trials`\n",
        "\n",
        "* **`Finally: Play the game:`**\n",
        "  * Ask the user to guess the number:\n",
        "    * If he guessed it successfully : `print('Congratulations, you achieved it in {user_trials} trial') `\n",
        "    * if he failed:\n",
        "      * user_trials < n_trials: till him (Increase) or (Decrease)\n",
        "      * user_trials = n_trials: `print('You Lose!')`"
      ],
      "metadata": {
        "id": "7uon2S-n4XF3"
      }
    },
    {
      "cell_type": "markdown",
      "source": [
        "## Project Description"
      ],
      "metadata": {
        "id": "PhpgbWHJhJOW"
      }
    },
    {
      "cell_type": "markdown",
      "source": [
        "* **`First: You ask the user to set the game level:`**\n",
        "  * *(1) Easy*:\n",
        "    * Limits : [1 - 10]  \n",
        "    * No. of trials : 3\n",
        "  * *(2) Intermediate*:\n",
        "    * Limits : [1 - 100]\n",
        "    * No. of trials : 7\n",
        "  * *(3) Hard* :  \n",
        "    * Limits : [1 - 1000]\n",
        "    * No. of trials : 15\n",
        "\n",
        "* **`Second: start the game according to the game level:`**\n",
        "  * set the `guess` to a number within the limits using `random` module\n",
        "  * set the number of trials: `n_trials`\n",
        "\n",
        "* **`Finally: start the game:`**\n",
        "  * Ask the user to guess the number:\n",
        "    * If he guessed it successfully : `print('Congratulations, you achieved it in {user_trials} trial') `\n",
        "    * if he failed:\n",
        "      * user_trials < n_trials: give him another trial within\n",
        "      * user_trials = n_trials: `print('You Lose!')`"
      ],
      "metadata": {
        "id": "9XJyp9xehPBl"
      }
    },
    {
      "cell_type": "code",
      "source": [],
      "metadata": {
        "id": "we7UkC6AhFwy"
      },
      "execution_count": null,
      "outputs": []
    },
    {
      "cell_type": "markdown",
      "source": [
        "# Template of Solution"
      ],
      "metadata": {
        "id": "m2nflmTioFy_"
      }
    },
    {
      "cell_type": "markdown",
      "source": [
        "## Show the game levels"
      ],
      "metadata": {
        "id": "GsE-z7Son-xm"
      }
    },
    {
      "cell_type": "code",
      "source": [
        "  # write your code here\n",
        "def show_levels():\n",
        " A = 'A = Easy'\n",
        " B = 'B = Intermediate'\n",
        " C = 'C = Hard'\n",
        " print('levels are {}, {}, {}'. format(A, B, C))\n",
        "\n",
        "show_levels()"
      ],
      "metadata": {
        "id": "YueCJNtPnndY",
        "colab": {
          "base_uri": "https://localhost:8080/"
        },
        "outputId": "6aac4636-1842-42ae-ce78-bb54fba706c1"
      },
      "execution_count": null,
      "outputs": [
        {
          "output_type": "stream",
          "name": "stdout",
          "text": [
            "levels are A = Easy, B = Intermediate, C = Hard\n"
          ]
        }
      ]
    },
    {
      "cell_type": "markdown",
      "source": [
        "## Ask the user for the game level"
      ],
      "metadata": {
        "id": "ZaIwkooboJ5p"
      }
    },
    {
      "cell_type": "code",
      "source": [
        "game_level = input('Choose the game level =  ')\n",
        "def game_level_choice():\n",
        " return 'your choice is', game_level    #My try and Question  ??????\n",
        "game_level_choice()"
      ],
      "metadata": {
        "id": "ciabphtW4nB1",
        "colab": {
          "base_uri": "https://localhost:8080/"
        },
        "outputId": "99f56f6d-61ff-4896-cdcf-3ff43bb252c4"
      },
      "execution_count": null,
      "outputs": [
        {
          "name": "stdout",
          "output_type": "stream",
          "text": [
            "Choose the game level =  A\n"
          ]
        },
        {
          "output_type": "execute_result",
          "data": {
            "text/plain": [
              "('your choice is', 'A')"
            ]
          },
          "metadata": {},
          "execution_count": 45
        }
      ]
    },
    {
      "cell_type": "code",
      "source": [
        "# the error in your previous code is the return value\n",
        "# return 'your choice is', game_level....not ok....the playing trials will not be correct\n",
        "# the correct is return limits, n_trials"
      ],
      "metadata": {
        "id": "-wR3ffMLxpp1"
      },
      "execution_count": null,
      "outputs": []
    },
    {
      "cell_type": "markdown",
      "source": [
        "## Set the game settings according to the game level:\n"
      ],
      "metadata": {
        "id": "OjfyXPCeoQM4"
      }
    },
    {
      "cell_type": "code",
      "source": [
        "def set_game_settings(game_level):\n",
        " if game_level == 'A':\n",
        "      n_trials = 3\n",
        "      limits = range(1,11)\n",
        " elif game_level == 'B':\n",
        "      n_trials = 7\n",
        "      limits = range(1,101)\n",
        " else:\n",
        "      n_trials = 15\n",
        "      limits = range(1,1001)\n",
        " return limits, n_trials   #My try and Question  ??????\n",
        "\n",
        "set_game_settings(game_level)"
      ],
      "metadata": {
        "id": "NTxJ1qsJmhoG",
        "colab": {
          "base_uri": "https://localhost:8080/"
        },
        "outputId": "5846fc53-6617-4168-e9a6-83a6b0599342"
      },
      "execution_count": null,
      "outputs": [
        {
          "output_type": "execute_result",
          "data": {
            "text/plain": [
              "(range(1, 11), 3)"
            ]
          },
          "metadata": {},
          "execution_count": 69
        }
      ]
    },
    {
      "cell_type": "code",
      "source": [
        "# the error in your previous code is the return value\n",
        "# return('Trials = {} and limits = {}'.format(n_trials,limits))....not ok....the playing trials will not be correct\n",
        "# the correct is return limits, n_trials\n"
      ],
      "metadata": {
        "id": "NywqB4irn0xy"
      },
      "execution_count": null,
      "outputs": []
    },
    {
      "cell_type": "markdown",
      "source": [
        "## Start Playing"
      ],
      "metadata": {
        "id": "97c-Ofv1o522"
      }
    },
    {
      "cell_type": "markdown",
      "source": [
        "> Hint: to generate random number in some range:\n",
        "\n",
        "`import random`\n",
        "\n",
        "`num = random.randint(lower, upper)`\n",
        "\n",
        " or\n",
        "\n",
        " `num = random.choice(range(lower, upper))`\n"
      ],
      "metadata": {
        "id": "bwXcWa3bUREY"
      }
    },
    {
      "cell_type": "code",
      "source": [
        "import random\n",
        "# it is a module to let machine choose a number hidden to me\n",
        "def start_play(limits, n_trials):\n",
        "  hidden = random.choice(limits)\n",
        "  user_trials = 0\n",
        "\n",
        "  while user_trials < n_trials:\n",
        "    guess = int(input('Guess the number :   '))\n",
        "    user_trials +=1\n",
        "\n",
        "    if guess == hidden:\n",
        "      print(f'You got it successfully in {user_trials} trials')\n",
        "      break\n",
        "    else:\n",
        "      if user_trials == n_trials:\n",
        "        print(f\"Unfortunately, You tried {user_trials} trials. No more Trials!\")\n",
        "        print(f'The hidden number is  {hidden}')\n",
        "      elif guess < hidden:\n",
        "        print('No, Increase!')\n",
        "      else:\n",
        "        print('No, Decrease!')\n",
        "    continue"
      ],
      "metadata": {
        "id": "W51FqZevRPO-"
      },
      "execution_count": null,
      "outputs": []
    },
    {
      "cell_type": "code",
      "source": [
        "def play_again():\n",
        "    while True:\n",
        "      play_again = input(\"Play again ? [0] No, [1] Yes:   \")\n",
        "      if play_again in ['1','0']:\n",
        "          break\n",
        "      else:\n",
        "          print('Invalid Choice! Please choose 0 or 1   ')\n",
        "    return int(play_again)"
      ],
      "metadata": {
        "id": "32btFdHsTwyu"
      },
      "execution_count": null,
      "outputs": []
    },
    {
      "cell_type": "code",
      "source": [
        "play_again()"
      ],
      "metadata": {
        "colab": {
          "base_uri": "https://localhost:8080/"
        },
        "id": "mz7FtAp_UJzE",
        "outputId": "39b18a9e-c139-4b35-b1e3-372f847fab91"
      },
      "execution_count": null,
      "outputs": [
        {
          "name": "stdout",
          "output_type": "stream",
          "text": [
            "Play again ? [0] No, [1] Yes:   1\n"
          ]
        },
        {
          "output_type": "execute_result",
          "data": {
            "text/plain": [
              "1"
            ]
          },
          "metadata": {},
          "execution_count": 73
        }
      ]
    },
    {
      "cell_type": "code",
      "source": [
        "# Another Solution for play again\n",
        "def play_sara_again():\n",
        "  play_again2 = int(input(\"Play again ? [0] No, [1] Yes:   \"))\n",
        "  if play_again2 in range(0,2):\n",
        "   return(play_again2)\n",
        "  else:\n",
        "   return ('Invalid Choice! Please choose 0 or 1   ')\n",
        "play_sara_again()"
      ],
      "metadata": {
        "colab": {
          "base_uri": "https://localhost:8080/"
        },
        "id": "4i-kxZ8tzQUD",
        "outputId": "39376970-238f-4e23-e206-0042a0555c16"
      },
      "execution_count": 1,
      "outputs": [
        {
          "name": "stdout",
          "output_type": "stream",
          "text": [
            "Play again ? [0] No, [1] Yes:   1\n"
          ]
        },
        {
          "output_type": "execute_result",
          "data": {
            "text/plain": [
              "1"
            ]
          },
          "metadata": {},
          "execution_count": 1
        }
      ]
    },
    {
      "cell_type": "markdown",
      "source": [
        "## Let's Play"
      ],
      "metadata": {
        "id": "uI9u-XGV2S7P"
      }
    },
    {
      "cell_type": "code",
      "source": [
        "def play():\n",
        "  show_levels()\n",
        "  while True:\n",
        "    game_level = game_level_choice()\n",
        "    limits, n_trials = set_game_settings(game_level)\n",
        "    start_play(limits, n_trials)\n",
        "    if not play_again():\n",
        "       break\n",
        "\n",
        "game_level_choice()"
      ],
      "metadata": {
        "id": "UxZ16u8fkS-W",
        "colab": {
          "base_uri": "https://localhost:8080/"
        },
        "outputId": "91d09d1e-966b-40b6-c218-035d2b884619"
      },
      "execution_count": null,
      "outputs": [
        {
          "output_type": "execute_result",
          "data": {
            "text/plain": [
              "('your choice is', 'A')"
            ]
          },
          "metadata": {},
          "execution_count": 74
        }
      ]
    },
    {
      "cell_type": "code",
      "source": [
        "play()"
      ],
      "metadata": {
        "colab": {
          "base_uri": "https://localhost:8080/"
        },
        "id": "7m9ENdZp1Ffg",
        "outputId": "e1f54335-624f-4134-a9a0-d6a21a1682a8"
      },
      "execution_count": null,
      "outputs": [
        {
          "name": "stdout",
          "output_type": "stream",
          "text": [
            "levels are A = Easy, B = Intermediate, C = Hard\n",
            "Guess the number :   100\n",
            "No, Increase!\n",
            "Guess the number :   400\n",
            "No, Increase!\n",
            "Guess the number :   800\n",
            "No, Decrease!\n",
            "Guess the number :   500\n",
            "No, Increase!\n",
            "Guess the number :   600\n",
            "No, Increase!\n",
            "Guess the number :   700\n",
            "No, Decrease!\n",
            "Guess the number :   650\n",
            "No, Increase!\n",
            "Guess the number :   710\n",
            "No, Decrease!\n",
            "Guess the number :   705\n",
            "No, Decrease!\n",
            "Guess the number :   701\n",
            "No, Decrease!\n",
            "Guess the number :   700\n",
            "No, Decrease!\n",
            "Guess the number :   680\n",
            "No, Decrease!\n",
            "Guess the number :   670\n",
            "No, Increase!\n",
            "Guess the number :   685\n",
            "No, Decrease!\n",
            "Guess the number :   680\n",
            "Unfortunately, You tried 15 trials. No more Trials!\n",
            "The hidden number is  674\n",
            "Play again ? [0] No, [1] Yes:   0\n"
          ]
        }
      ]
    },
    {
      "cell_type": "code",
      "source": [
        "# The problem oy trials = 15 not 3 in level A af the return includes string :("
      ],
      "metadata": {
        "id": "GmaULA1CmpRS"
      },
      "execution_count": null,
      "outputs": []
    },
    {
      "cell_type": "code",
      "source": [],
      "metadata": {
        "id": "mZ1JrSX0zvQo"
      },
      "execution_count": null,
      "outputs": []
    }
  ]
}